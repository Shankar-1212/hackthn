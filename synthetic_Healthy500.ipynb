{
  "nbformat": 4,
  "nbformat_minor": 0,
  "metadata": {
    "colab": {
      "provenance": []
    },
    "kernelspec": {
      "name": "python3",
      "display_name": "Python 3"
    },
    "language_info": {
      "name": "python"
    }
  },
  "cells": [
    {
      "cell_type": "code",
      "execution_count": null,
      "metadata": {
        "id": "kBiXr-T7Iph0"
      },
      "outputs": [],
      "source": [
        "from google.colab import drive\n",
        "drive.mount(‘/content/gdrive’)"
      ]
    },
    {
      "cell_type": "code",
      "source": [
        "!pip install diffusers torch Pillow\n",
        "!pip install xformers  # Optional for memory-efficient attention"
      ],
      "metadata": {
        "id": "efidTESqIqev"
      },
      "execution_count": null,
      "outputs": []
    },
    {
      "cell_type": "code",
      "source": [
        "from pathlib import Path\n",
        "import os\n",
        "from PIL import ImageOps\n",
        "import torch\n",
        "from diffusers import DPMSolverMultistepScheduler, StableDiffusionPipeline\n",
        "\n",
        "# Set CUDA device (if available)\n",
        "os.environ[\"CUDA_DEVICE_ORDER\"] = \"PCI_BUS_ID\"\n",
        "os.environ[\"CUDA_VISIBLE_DEVICES\"] = \"0\"\n",
        "\n",
        "def generate_and_save_mammograms(vendor, view, density, area, laterality, priority, negative_prompt, guidance_scale, diffusion_steps, seed_checkbox, seed, num_samples=500):\n",
        "    \"\"\"Function to generate and save 500 mammogram images.\"\"\"\n",
        "\n",
        "    # Define model and load weights\n",
        "    model_dir = 'Likalto4/fusion_healthy'  # Replace with your model's path\n",
        "\n",
        "    # Load the Stable Diffusion pipeline\n",
        "    pipe = StableDiffusionPipeline.from_pretrained(\n",
        "        model_dir,\n",
        "        safety_checker=None,\n",
        "        torch_dtype=torch.float16\n",
        "    ).to(\"cuda\")\n",
        "\n",
        "    # Use DPMSolverMultistepScheduler\n",
        "    pipe.scheduler = DPMSolverMultistepScheduler.from_config(pipe.scheduler.config)\n",
        "    pipe.enable_xformers_memory_efficient_attention()\n",
        "\n",
        "    # Define the output directory\n",
        "    output_dir = '/content/drive/MyDrive/new'\n",
        "    Path(output_dir).mkdir(parents=True, exist_ok=True)  # Ensure the directory exists\n",
        "\n",
        "    # Build prompt based on priority\n",
        "    if priority == 'area':\n",
        "        prompt = f'a {vendor} mammogram in {view} view with {area} area and {density} density'\n",
        "    elif priority == 'density':\n",
        "        prompt = f'a {vendor} mammogram in {view} view with {density} density and {area} area'\n",
        "    elif priority == 'only area':\n",
        "        prompt = f'a {vendor} mammogram in {view} view with {area} area'\n",
        "    elif priority == 'only density':\n",
        "        prompt = f'a {vendor} mammogram in {view} view with {density} density'\n",
        "    else:\n",
        "        raise ValueError('Invalid priority value')\n",
        "\n",
        "    # Set seed for reproducibility if needed\n",
        "    if seed_checkbox:\n",
        "        generator = torch.Generator(device='cuda')\n",
        "        generator.manual_seed(seed)\n",
        "    else:\n",
        "        generator = None\n",
        "\n",
        "    # Loop to generate images\n",
        "    for i in range(num_samples):\n",
        "        # Generate image\n",
        "        with torch.autocast(\"cuda\"), torch.inference_mode():\n",
        "            image = pipe(\n",
        "                prompt=prompt,\n",
        "                negative_prompt=negative_prompt,\n",
        "                num_images_per_prompt=1,\n",
        "                num_inference_steps=diffusion_steps,\n",
        "                guidance_scale=guidance_scale,\n",
        "                height=512,\n",
        "                width=512,\n",
        "                generator=generator\n",
        "            ).images\n",
        "\n",
        "        # Get the output image and handle laterality\n",
        "        pil_output = image[0]\n",
        "        if laterality == 'R':\n",
        "            pil_output = ImageOps.mirror(pil_output)\n",
        "\n",
        "        # Save the image with a unique filename\n",
        "        output_path = os.path.join(output_dir, f\"mammogram_{i+1}.png\")\n",
        "        pil_output.save(output_path)\n",
        "\n",
        "        print(f\"Saved image {i+1}/{num_samples} to {output_path}\")\n",
        "\n",
        "if __name__ == '__main__':\n",
        "    # Set your parameters for generating images\n",
        "    vendor = 'Siemens'\n",
        "    view = 'MLO'\n",
        "    density = 'very high'\n",
        "    area = 'small'\n",
        "    laterality = 'L'\n",
        "    priority = 'area'\n",
        "    negative_prompt = ''\n",
        "    guidance_scale = 6\n",
        "    diffusion_steps = 24\n",
        "    seed_checkbox = True\n",
        "    seed = 1338\n",
        "    num_samples = 500  # Number of images to generate\n",
        "\n",
        "    # Call the function to generate and save images\n",
        "    generate_and_save_mammograms(vendor, view, density, area, laterality, priority, negative_prompt, guidance_scale, diffusion_steps, seed_checkbox, seed, num_samples)"
      ],
      "metadata": {
        "id": "aUUbGlYbIsAN"
      },
      "execution_count": null,
      "outputs": []
    }
  ]
}